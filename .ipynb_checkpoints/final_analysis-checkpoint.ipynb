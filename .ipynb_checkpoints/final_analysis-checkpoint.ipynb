{
 "cells": [
  {
   "cell_type": "code",
   "execution_count": 1,
   "metadata": {},
   "outputs": [],
   "source": [
    "import numpy as np\n",
    "import pandas as pd\n"
   ]
  },
  {
   "cell_type": "code",
   "execution_count": 2,
   "metadata": {},
   "outputs": [],
   "source": [
    "data_file=pd.read_csv('data_with_headers.csv')\n"
   ]
  },
  {
   "cell_type": "code",
   "execution_count": 3,
   "metadata": {},
   "outputs": [
    {
     "data": {
      "text/html": [
       "<div>\n",
       "<style scoped>\n",
       "    .dataframe tbody tr th:only-of-type {\n",
       "        vertical-align: middle;\n",
       "    }\n",
       "\n",
       "    .dataframe tbody tr th {\n",
       "        vertical-align: top;\n",
       "    }\n",
       "\n",
       "    .dataframe thead th {\n",
       "        text-align: right;\n",
       "    }\n",
       "</style>\n",
       "<table border=\"1\" class=\"dataframe\">\n",
       "  <thead>\n",
       "    <tr style=\"text-align: right;\">\n",
       "      <th></th>\n",
       "      <th>time</th>\n",
       "      <th>s1</th>\n",
       "      <th>s2</th>\n",
       "      <th>s3</th>\n",
       "      <th>s4</th>\n",
       "      <th>s5</th>\n",
       "      <th>s6</th>\n",
       "      <th>s7</th>\n",
       "      <th>s8</th>\n",
       "    </tr>\n",
       "  </thead>\n",
       "  <tbody>\n",
       "    <tr>\n",
       "      <th>0</th>\n",
       "      <td>1.398489e+09</td>\n",
       "      <td>406.821114</td>\n",
       "      <td>414.7304</td>\n",
       "      <td>373.126443</td>\n",
       "      <td>375.749231</td>\n",
       "      <td>NaN</td>\n",
       "      <td>NaN</td>\n",
       "      <td>NaN</td>\n",
       "      <td>NaN</td>\n",
       "    </tr>\n",
       "    <tr>\n",
       "      <th>1</th>\n",
       "      <td>1.398489e+09</td>\n",
       "      <td>393.779605</td>\n",
       "      <td>390.7304</td>\n",
       "      <td>363.568921</td>\n",
       "      <td>365.364615</td>\n",
       "      <td>NaN</td>\n",
       "      <td>NaN</td>\n",
       "      <td>NaN</td>\n",
       "      <td>NaN</td>\n",
       "    </tr>\n",
       "    <tr>\n",
       "      <th>2</th>\n",
       "      <td>1.398489e+09</td>\n",
       "      <td>370.956963</td>\n",
       "      <td>378.7304</td>\n",
       "      <td>360.383080</td>\n",
       "      <td>358.441538</td>\n",
       "      <td>NaN</td>\n",
       "      <td>NaN</td>\n",
       "      <td>NaN</td>\n",
       "      <td>NaN</td>\n",
       "    </tr>\n",
       "  </tbody>\n",
       "</table>\n",
       "</div>"
      ],
      "text/plain": [
       "           time          s1        s2          s3          s4  s5  s6  s7  s8\n",
       "0  1.398489e+09  406.821114  414.7304  373.126443  375.749231 NaN NaN NaN NaN\n",
       "1  1.398489e+09  393.779605  390.7304  363.568921  365.364615 NaN NaN NaN NaN\n",
       "2  1.398489e+09  370.956963  378.7304  360.383080  358.441538 NaN NaN NaN NaN"
      ]
     },
     "execution_count": 3,
     "metadata": {},
     "output_type": "execute_result"
    }
   ],
   "source": [
    "data_file[0:3]"
   ]
  },
  {
   "cell_type": "code",
   "execution_count": null,
   "metadata": {},
   "outputs": [],
   "source": [
    "time=data_file['time']"
   ]
  },
  {
   "cell_type": "code",
   "execution_count": 6,
   "metadata": {},
   "outputs": [
    {
     "name": "stdout",
     "output_type": "stream",
     "text": [
      "           s1        s2          s3          s4\n",
      "0  406.821114  414.7304  373.126443  375.749231\n",
      "1  393.779605  390.7304  363.568921  365.364615\n",
      "2  370.956963  378.7304  360.383080  358.441538\n",
      "3  362.806020  378.7304  360.383080  353.249231\n",
      "4  369.326774  390.7304  363.568921  358.441538\n",
      "5  392.149416  402.7304  376.312283  368.826154\n"
     ]
    },
    {
     "name": "stderr",
     "output_type": "stream",
     "text": [
      "c:\\users\\anmol\\appdata\\local\\programs\\python\\python36-32\\lib\\site-packages\\ipykernel_launcher.py:1: DeprecationWarning: \n",
      ".ix is deprecated. Please use\n",
      ".loc for label based indexing or\n",
      ".iloc for positional indexing\n",
      "\n",
      "See the documentation here:\n",
      "http://pandas.pydata.org/pandas-docs/stable/indexing.html#ix-indexer-is-deprecated\n",
      "  \"\"\"Entry point for launching an IPython kernel.\n"
     ]
    }
   ],
   "source": [
    "sensors=data_file.ix[:,'s1':'s4']\n",
    "print(sensors[0:6])"
   ]
  },
  {
   "cell_type": "code",
   "execution_count": 11,
   "metadata": {},
   "outputs": [
    {
     "name": "stdout",
     "output_type": "stream",
     "text": [
      "0          0.000\n",
      "1          0.999\n",
      "2          2.986\n",
      "3          5.856\n",
      "4          6.855\n",
      "5          7.855\n",
      "6          8.855\n",
      "7         10.718\n",
      "8         12.284\n",
      "9         13.283\n",
      "10        15.425\n",
      "11        17.025\n",
      "12        18.485\n",
      "13        20.491\n",
      "14        21.490\n",
      "15        22.489\n",
      "16        23.488\n",
      "17        26.536\n",
      "18        28.033\n",
      "19        29.032\n",
      "20        30.031\n",
      "21        31.030\n",
      "22        32.985\n",
      "23        34.537\n",
      "24        35.984\n",
      "25        36.984\n",
      "26        37.983\n",
      "27        39.402\n",
      "28        41.017\n",
      "29        42.017\n",
      "          ...   \n",
      "1170    1703.053\n",
      "1171    1704.493\n",
      "1172    1705.492\n",
      "1173    1706.491\n",
      "1174    1707.945\n",
      "1175    1709.569\n",
      "1176    1710.568\n",
      "1177    1711.567\n",
      "1178    1712.567\n",
      "1179    1714.899\n",
      "1180    1716.569\n",
      "1181    1717.568\n",
      "1182    1718.567\n",
      "1183    1719.566\n",
      "1184    1720.845\n",
      "1185    1723.059\n",
      "1186    1724.451\n",
      "1187    1725.461\n",
      "1188    1726.460\n",
      "1189    1727.847\n",
      "1190    1729.570\n",
      "1191    1730.569\n",
      "1192    1731.568\n",
      "1193    1732.568\n",
      "1194    1734.929\n",
      "1195    1736.543\n",
      "1196    1737.543\n",
      "1197    1738.543\n",
      "1198    1739.542\n",
      "1199    1740.848\n",
      "Name: time, Length: 1200, dtype: float64\n"
     ]
    }
   ],
   "source": [
    "time=data_file['time']\n",
    "time=time-time[0]\n",
    "print(time)\n"
   ]
  },
  {
   "cell_type": "code",
   "execution_count": 13,
   "metadata": {},
   "outputs": [
    {
     "name": "stdout",
     "output_type": "stream",
     "text": [
      "0    392.606797\n",
      "1    378.360885\n",
      "2    367.127995\n",
      "dtype: float64\n"
     ]
    }
   ],
   "source": [
    "avg_rows=np.mean(sensors,1)\n",
    "avg_col=np.mean(sensors,0)\n",
    "print(avg_rows[0:3])\n",
    "\n"
   ]
  },
  {
   "cell_type": "code",
   "execution_count": 14,
   "metadata": {},
   "outputs": [
    {
     "name": "stdout",
     "output_type": "stream",
     "text": [
      "s1    382.153393\n",
      "s2    391.840400\n",
      "s3    364.279629\n",
      "s4    361.325000\n",
      "dtype: float64\n"
     ]
    }
   ],
   "source": [
    "print(avg_col)"
   ]
  },
  {
   "cell_type": "code",
   "execution_count": 24,
   "metadata": {},
   "outputs": [
    {
     "name": "stdout",
     "output_type": "stream",
     "text": [
      "          time          s1        s2          s3          s4           0\n",
      "0        0.000  406.821114  414.7304  373.126443  375.749231  392.606797\n",
      "1        0.999  393.779605  390.7304  363.568921  365.364615  378.360885\n",
      "2        2.986  370.956963  378.7304  360.383080  358.441538  367.127995\n",
      "3        5.856  362.806020  378.7304  360.383080  353.249231  363.792183\n",
      "4        6.855  369.326774  390.7304  363.568921  358.441538  370.516908\n",
      "5        7.855  392.149416  402.7304  376.312283  368.826154  385.004563\n",
      "6        8.855  414.972057  414.7304  385.869805  384.403077  399.993835\n",
      "7       10.718  413.341869  390.7304  373.126443  382.672308  389.967755\n",
      "8       12.284  372.587152  390.7304  354.011399  351.518461  367.211853\n",
      "9       13.283  351.503378  390.7304  350.825558  341.133846  358.548295\n",
      "10      15.425  357.915454  378.7304  360.383080  348.056923  361.271464\n",
      "11      17.025  382.368284  390.7304  369.940602  370.556923  378.399052\n",
      "12      18.485  416.602246  426.7304  376.312283  382.672308  400.579309\n",
      "13      20.491  397.039982  390.7304  366.754761  368.826154  380.837824\n",
      "14      21.490  370.956963  378.7304  357.197239  354.980000  365.466151\n",
      "15      22.489  356.393944  378.7304  350.825558  341.133846  356.770937\n",
      "16      23.488  362.806020  366.7304  354.011399  348.056923  357.901185\n",
      "17      26.536  398.670171  390.7304  373.126443  377.480000  385.001753\n",
      "18      28.033  397.039982  414.7304  376.312283  379.210769  391.823359\n",
      "19      29.032  397.039982  390.7304  363.568921  365.364615  379.175979\n",
      "20      30.031  385.628661  402.7304  357.197239  354.980000  375.134075\n",
      "21      31.030  372.587152  366.7304  360.383080  354.980000  363.670158\n",
      "22      32.985  367.696586  378.7304  354.011399  351.518461  362.989211\n",
      "23      34.537  372.587152  378.7304  357.197239  358.441538  366.739082\n",
      "24      35.984  390.519227  390.7304  376.312283  372.287692  382.462401\n",
      "25      36.984  395.409793  414.7304  376.312283  372.287692  389.685042\n",
      "26      37.983  395.409793  390.7304  379.498124  372.287692  384.481502\n",
      "27      39.402  393.779605  402.7304  360.383080  361.903077  379.699040\n",
      "28      41.017  369.326774  390.7304  357.197239  353.249231  367.625911\n",
      "29      42.017  366.066397  378.7304  357.197239  354.980000  364.243509\n",
      "...        ...         ...       ...         ...         ...         ...\n",
      "1170  1703.053  379.956963  387.7304  359.825558  360.518461  372.007846\n",
      "1171  1704.493  381.587152  399.7304  366.197239  358.787692  376.575621\n",
      "1172  1705.492  379.956963  399.7304  369.383080  363.980000  378.262611\n",
      "1173  1706.491  384.847529  387.7304  369.383080  367.441538  377.350637\n",
      "1174  1707.945  399.519227  399.7304  372.568921  370.903077  385.680406\n",
      "1175  1709.569  392.998472  387.7304  366.197239  363.980000  377.726528\n",
      "1176  1710.568  375.066397  375.7304  359.825558  358.787692  367.352512\n",
      "1177  1711.567  357.243001  387.7304  366.197239  353.595384  366.191506\n",
      "1178  1712.567  362.133567  387.7304  359.825558  355.326154  366.253920\n",
      "1179  1714.899  406.039982  399.7304  378.940602  379.556923  391.066977\n",
      "1180  1716.569  407.670171  399.7304  375.754761  381.287692  391.110756\n",
      "1181  1717.568  396.258850  399.7304  372.568921  370.903077  384.865312\n",
      "1182  1718.567  378.326774  387.7304  359.825558  357.056923  370.734914\n",
      "1183  1719.566  373.436208  387.7304  359.825558  353.595384  368.646888\n",
      "1184  1720.845  373.436208  387.7304  366.197239  357.056923  371.105193\n",
      "1185  1723.059  389.738095  411.7304  366.197239  362.249231  382.478741\n",
      "1186  1724.451  388.107906  399.7304  372.568921  369.172307  382.394884\n",
      "1187  1725.461  381.587152  387.7304  372.568921  369.172307  377.764695\n",
      "1188  1726.460  383.217340  411.7304  369.383080  365.710769  382.510397\n",
      "1189  1727.847  402.779605  399.7304  369.383080  365.710769  384.400963\n",
      "1190  1729.570  396.258850  399.7304  369.383080  370.903077  384.068852\n",
      "1191  1730.569  388.107906  387.7304  369.383080  369.172307  378.598423\n",
      "1192  1731.568  379.956963  387.7304  359.825558  357.056923  371.142461\n",
      "1193  1732.568  373.436208  399.7304  359.825558  355.326154  372.079580\n",
      "1194  1734.929  378.326774  411.7304  372.568921  363.980000  381.651524\n",
      "1195  1736.543  392.998472  387.7304  369.383080  369.172307  379.821065\n",
      "1196  1737.543  396.258850  387.7304  366.197239  367.441538  379.407007\n",
      "1197  1738.543  386.477718  411.7304  369.383080  365.710769  383.325492\n",
      "1198  1739.542  384.847529  387.7304  366.197239  365.710769  376.121484\n",
      "1199  1740.848  391.368284  399.7304  369.383080  365.710769  381.548133\n",
      "\n",
      "[1200 rows x 6 columns]\n"
     ]
    }
   ],
   "source": [
    "my_data=[time,sensors,avg_rows]\n",
    "result=pd.concat(my_data,axis=1)\n",
    "print(result)"
   ]
  },
  {
   "cell_type": "code",
   "execution_count": 23,
   "metadata": {},
   "outputs": [],
   "source": [
    "result.to_csv('result.csv')\n",
    "result.to_html('result.html')\n",
    "result.to_clipboard()"
   ]
  },
  {
   "cell_type": "code",
   "execution_count": 33,
   "metadata": {},
   "outputs": [
    {
     "ename": "KeyError",
     "evalue": "('s1', 's2')",
     "output_type": "error",
     "traceback": [
      "\u001b[1;31m---------------------------------------------------------------------------\u001b[0m",
      "\u001b[1;31mKeyError\u001b[0m                                  Traceback (most recent call last)",
      "\u001b[1;32mc:\\users\\anmol\\appdata\\local\\programs\\python\\python36-32\\lib\\site-packages\\pandas\\core\\indexes\\base.py\u001b[0m in \u001b[0;36mget_loc\u001b[1;34m(self, key, method, tolerance)\u001b[0m\n\u001b[0;32m   3063\u001b[0m             \u001b[1;32mtry\u001b[0m\u001b[1;33m:\u001b[0m\u001b[1;33m\u001b[0m\u001b[0m\n\u001b[1;32m-> 3064\u001b[1;33m                 \u001b[1;32mreturn\u001b[0m \u001b[0mself\u001b[0m\u001b[1;33m.\u001b[0m\u001b[0m_engine\u001b[0m\u001b[1;33m.\u001b[0m\u001b[0mget_loc\u001b[0m\u001b[1;33m(\u001b[0m\u001b[0mkey\u001b[0m\u001b[1;33m)\u001b[0m\u001b[1;33m\u001b[0m\u001b[0m\n\u001b[0m\u001b[0;32m   3065\u001b[0m             \u001b[1;32mexcept\u001b[0m \u001b[0mKeyError\u001b[0m\u001b[1;33m:\u001b[0m\u001b[1;33m\u001b[0m\u001b[0m\n",
      "\u001b[1;32mpandas\\_libs\\index.pyx\u001b[0m in \u001b[0;36mpandas._libs.index.IndexEngine.get_loc\u001b[1;34m()\u001b[0m\n",
      "\u001b[1;32mpandas\\_libs\\index.pyx\u001b[0m in \u001b[0;36mpandas._libs.index.IndexEngine.get_loc\u001b[1;34m()\u001b[0m\n",
      "\u001b[1;32mpandas\\_libs\\hashtable_class_helper.pxi\u001b[0m in \u001b[0;36mpandas._libs.hashtable.PyObjectHashTable.get_item\u001b[1;34m()\u001b[0m\n",
      "\u001b[1;32mpandas\\_libs\\hashtable_class_helper.pxi\u001b[0m in \u001b[0;36mpandas._libs.hashtable.PyObjectHashTable.get_item\u001b[1;34m()\u001b[0m\n",
      "\u001b[1;31mKeyError\u001b[0m: ('s1', 's2')",
      "\nDuring handling of the above exception, another exception occurred:\n",
      "\u001b[1;31mKeyError\u001b[0m                                  Traceback (most recent call last)",
      "\u001b[1;32m<ipython-input-33-0d990a912551>\u001b[0m in \u001b[0;36m<module>\u001b[1;34m()\u001b[0m\n\u001b[0;32m      2\u001b[0m \u001b[1;32mimport\u001b[0m \u001b[0mmatplotlib\u001b[0m\u001b[1;33m.\u001b[0m\u001b[0mpyplot\u001b[0m \u001b[1;32mas\u001b[0m \u001b[0mplt\u001b[0m\u001b[1;33m\u001b[0m\u001b[0m\n\u001b[0;32m      3\u001b[0m \u001b[0mplt\u001b[0m\u001b[1;33m.\u001b[0m\u001b[0mfigure\u001b[0m\u001b[1;33m(\u001b[0m\u001b[1;36m1\u001b[0m\u001b[1;33m)\u001b[0m\u001b[1;33m\u001b[0m\u001b[0m\n\u001b[1;32m----> 4\u001b[1;33m \u001b[0mplt\u001b[0m\u001b[1;33m.\u001b[0m\u001b[0mplot\u001b[0m\u001b[1;33m(\u001b[0m\u001b[0mtime\u001b[0m\u001b[1;33m,\u001b[0m\u001b[0msensors\u001b[0m\u001b[1;33m[\u001b[0m\u001b[1;34m's1'\u001b[0m\u001b[1;33m,\u001b[0m\u001b[1;34m's2'\u001b[0m\u001b[1;33m]\u001b[0m\u001b[1;33m,\u001b[0m\u001b[1;34m'-r'\u001b[0m\u001b[1;33m)\u001b[0m\u001b[1;33m\u001b[0m\u001b[0m\n\u001b[0m\u001b[0;32m      5\u001b[0m \u001b[0mplt\u001b[0m\u001b[1;33m.\u001b[0m\u001b[0mplot\u001b[0m\u001b[1;33m(\u001b[0m\u001b[0mtime\u001b[0m\u001b[1;33m,\u001b[0m\u001b[0mavg_rows\u001b[0m\u001b[1;33m,\u001b[0m\u001b[1;34m'^b'\u001b[0m\u001b[1;33m)\u001b[0m\u001b[1;33m\u001b[0m\u001b[0m\n\u001b[0;32m      6\u001b[0m \u001b[0mplt\u001b[0m\u001b[1;33m.\u001b[0m\u001b[0mlegend\u001b[0m\u001b[1;33m(\u001b[0m\u001b[1;33m[\u001b[0m\u001b[1;34m'sensors'\u001b[0m\u001b[1;33m,\u001b[0m\u001b[1;34m'average'\u001b[0m\u001b[1;33m]\u001b[0m\u001b[1;33m)\u001b[0m\u001b[1;33m\u001b[0m\u001b[0m\n",
      "\u001b[1;32mc:\\users\\anmol\\appdata\\local\\programs\\python\\python36-32\\lib\\site-packages\\pandas\\core\\frame.py\u001b[0m in \u001b[0;36m__getitem__\u001b[1;34m(self, key)\u001b[0m\n\u001b[0;32m   2686\u001b[0m             \u001b[1;32mreturn\u001b[0m \u001b[0mself\u001b[0m\u001b[1;33m.\u001b[0m\u001b[0m_getitem_multilevel\u001b[0m\u001b[1;33m(\u001b[0m\u001b[0mkey\u001b[0m\u001b[1;33m)\u001b[0m\u001b[1;33m\u001b[0m\u001b[0m\n\u001b[0;32m   2687\u001b[0m         \u001b[1;32melse\u001b[0m\u001b[1;33m:\u001b[0m\u001b[1;33m\u001b[0m\u001b[0m\n\u001b[1;32m-> 2688\u001b[1;33m             \u001b[1;32mreturn\u001b[0m \u001b[0mself\u001b[0m\u001b[1;33m.\u001b[0m\u001b[0m_getitem_column\u001b[0m\u001b[1;33m(\u001b[0m\u001b[0mkey\u001b[0m\u001b[1;33m)\u001b[0m\u001b[1;33m\u001b[0m\u001b[0m\n\u001b[0m\u001b[0;32m   2689\u001b[0m \u001b[1;33m\u001b[0m\u001b[0m\n\u001b[0;32m   2690\u001b[0m     \u001b[1;32mdef\u001b[0m \u001b[0m_getitem_column\u001b[0m\u001b[1;33m(\u001b[0m\u001b[0mself\u001b[0m\u001b[1;33m,\u001b[0m \u001b[0mkey\u001b[0m\u001b[1;33m)\u001b[0m\u001b[1;33m:\u001b[0m\u001b[1;33m\u001b[0m\u001b[0m\n",
      "\u001b[1;32mc:\\users\\anmol\\appdata\\local\\programs\\python\\python36-32\\lib\\site-packages\\pandas\\core\\frame.py\u001b[0m in \u001b[0;36m_getitem_column\u001b[1;34m(self, key)\u001b[0m\n\u001b[0;32m   2693\u001b[0m         \u001b[1;31m# get column\u001b[0m\u001b[1;33m\u001b[0m\u001b[1;33m\u001b[0m\u001b[0m\n\u001b[0;32m   2694\u001b[0m         \u001b[1;32mif\u001b[0m \u001b[0mself\u001b[0m\u001b[1;33m.\u001b[0m\u001b[0mcolumns\u001b[0m\u001b[1;33m.\u001b[0m\u001b[0mis_unique\u001b[0m\u001b[1;33m:\u001b[0m\u001b[1;33m\u001b[0m\u001b[0m\n\u001b[1;32m-> 2695\u001b[1;33m             \u001b[1;32mreturn\u001b[0m \u001b[0mself\u001b[0m\u001b[1;33m.\u001b[0m\u001b[0m_get_item_cache\u001b[0m\u001b[1;33m(\u001b[0m\u001b[0mkey\u001b[0m\u001b[1;33m)\u001b[0m\u001b[1;33m\u001b[0m\u001b[0m\n\u001b[0m\u001b[0;32m   2696\u001b[0m \u001b[1;33m\u001b[0m\u001b[0m\n\u001b[0;32m   2697\u001b[0m         \u001b[1;31m# duplicate columns & possible reduce dimensionality\u001b[0m\u001b[1;33m\u001b[0m\u001b[1;33m\u001b[0m\u001b[0m\n",
      "\u001b[1;32mc:\\users\\anmol\\appdata\\local\\programs\\python\\python36-32\\lib\\site-packages\\pandas\\core\\generic.py\u001b[0m in \u001b[0;36m_get_item_cache\u001b[1;34m(self, item)\u001b[0m\n\u001b[0;32m   2484\u001b[0m         \u001b[0mres\u001b[0m \u001b[1;33m=\u001b[0m \u001b[0mcache\u001b[0m\u001b[1;33m.\u001b[0m\u001b[0mget\u001b[0m\u001b[1;33m(\u001b[0m\u001b[0mitem\u001b[0m\u001b[1;33m)\u001b[0m\u001b[1;33m\u001b[0m\u001b[0m\n\u001b[0;32m   2485\u001b[0m         \u001b[1;32mif\u001b[0m \u001b[0mres\u001b[0m \u001b[1;32mis\u001b[0m \u001b[1;32mNone\u001b[0m\u001b[1;33m:\u001b[0m\u001b[1;33m\u001b[0m\u001b[0m\n\u001b[1;32m-> 2486\u001b[1;33m             \u001b[0mvalues\u001b[0m \u001b[1;33m=\u001b[0m \u001b[0mself\u001b[0m\u001b[1;33m.\u001b[0m\u001b[0m_data\u001b[0m\u001b[1;33m.\u001b[0m\u001b[0mget\u001b[0m\u001b[1;33m(\u001b[0m\u001b[0mitem\u001b[0m\u001b[1;33m)\u001b[0m\u001b[1;33m\u001b[0m\u001b[0m\n\u001b[0m\u001b[0;32m   2487\u001b[0m             \u001b[0mres\u001b[0m \u001b[1;33m=\u001b[0m \u001b[0mself\u001b[0m\u001b[1;33m.\u001b[0m\u001b[0m_box_item_values\u001b[0m\u001b[1;33m(\u001b[0m\u001b[0mitem\u001b[0m\u001b[1;33m,\u001b[0m \u001b[0mvalues\u001b[0m\u001b[1;33m)\u001b[0m\u001b[1;33m\u001b[0m\u001b[0m\n\u001b[0;32m   2488\u001b[0m             \u001b[0mcache\u001b[0m\u001b[1;33m[\u001b[0m\u001b[0mitem\u001b[0m\u001b[1;33m]\u001b[0m \u001b[1;33m=\u001b[0m \u001b[0mres\u001b[0m\u001b[1;33m\u001b[0m\u001b[0m\n",
      "\u001b[1;32mc:\\users\\anmol\\appdata\\local\\programs\\python\\python36-32\\lib\\site-packages\\pandas\\core\\internals.py\u001b[0m in \u001b[0;36mget\u001b[1;34m(self, item, fastpath)\u001b[0m\n\u001b[0;32m   4113\u001b[0m \u001b[1;33m\u001b[0m\u001b[0m\n\u001b[0;32m   4114\u001b[0m             \u001b[1;32mif\u001b[0m \u001b[1;32mnot\u001b[0m \u001b[0misna\u001b[0m\u001b[1;33m(\u001b[0m\u001b[0mitem\u001b[0m\u001b[1;33m)\u001b[0m\u001b[1;33m:\u001b[0m\u001b[1;33m\u001b[0m\u001b[0m\n\u001b[1;32m-> 4115\u001b[1;33m                 \u001b[0mloc\u001b[0m \u001b[1;33m=\u001b[0m \u001b[0mself\u001b[0m\u001b[1;33m.\u001b[0m\u001b[0mitems\u001b[0m\u001b[1;33m.\u001b[0m\u001b[0mget_loc\u001b[0m\u001b[1;33m(\u001b[0m\u001b[0mitem\u001b[0m\u001b[1;33m)\u001b[0m\u001b[1;33m\u001b[0m\u001b[0m\n\u001b[0m\u001b[0;32m   4116\u001b[0m             \u001b[1;32melse\u001b[0m\u001b[1;33m:\u001b[0m\u001b[1;33m\u001b[0m\u001b[0m\n\u001b[0;32m   4117\u001b[0m                 \u001b[0mindexer\u001b[0m \u001b[1;33m=\u001b[0m \u001b[0mnp\u001b[0m\u001b[1;33m.\u001b[0m\u001b[0marange\u001b[0m\u001b[1;33m(\u001b[0m\u001b[0mlen\u001b[0m\u001b[1;33m(\u001b[0m\u001b[0mself\u001b[0m\u001b[1;33m.\u001b[0m\u001b[0mitems\u001b[0m\u001b[1;33m)\u001b[0m\u001b[1;33m)\u001b[0m\u001b[1;33m[\u001b[0m\u001b[0misna\u001b[0m\u001b[1;33m(\u001b[0m\u001b[0mself\u001b[0m\u001b[1;33m.\u001b[0m\u001b[0mitems\u001b[0m\u001b[1;33m)\u001b[0m\u001b[1;33m]\u001b[0m\u001b[1;33m\u001b[0m\u001b[0m\n",
      "\u001b[1;32mc:\\users\\anmol\\appdata\\local\\programs\\python\\python36-32\\lib\\site-packages\\pandas\\core\\indexes\\base.py\u001b[0m in \u001b[0;36mget_loc\u001b[1;34m(self, key, method, tolerance)\u001b[0m\n\u001b[0;32m   3064\u001b[0m                 \u001b[1;32mreturn\u001b[0m \u001b[0mself\u001b[0m\u001b[1;33m.\u001b[0m\u001b[0m_engine\u001b[0m\u001b[1;33m.\u001b[0m\u001b[0mget_loc\u001b[0m\u001b[1;33m(\u001b[0m\u001b[0mkey\u001b[0m\u001b[1;33m)\u001b[0m\u001b[1;33m\u001b[0m\u001b[0m\n\u001b[0;32m   3065\u001b[0m             \u001b[1;32mexcept\u001b[0m \u001b[0mKeyError\u001b[0m\u001b[1;33m:\u001b[0m\u001b[1;33m\u001b[0m\u001b[0m\n\u001b[1;32m-> 3066\u001b[1;33m                 \u001b[1;32mreturn\u001b[0m \u001b[0mself\u001b[0m\u001b[1;33m.\u001b[0m\u001b[0m_engine\u001b[0m\u001b[1;33m.\u001b[0m\u001b[0mget_loc\u001b[0m\u001b[1;33m(\u001b[0m\u001b[0mself\u001b[0m\u001b[1;33m.\u001b[0m\u001b[0m_maybe_cast_indexer\u001b[0m\u001b[1;33m(\u001b[0m\u001b[0mkey\u001b[0m\u001b[1;33m)\u001b[0m\u001b[1;33m)\u001b[0m\u001b[1;33m\u001b[0m\u001b[0m\n\u001b[0m\u001b[0;32m   3067\u001b[0m \u001b[1;33m\u001b[0m\u001b[0m\n\u001b[0;32m   3068\u001b[0m         \u001b[0mindexer\u001b[0m \u001b[1;33m=\u001b[0m \u001b[0mself\u001b[0m\u001b[1;33m.\u001b[0m\u001b[0mget_indexer\u001b[0m\u001b[1;33m(\u001b[0m\u001b[1;33m[\u001b[0m\u001b[0mkey\u001b[0m\u001b[1;33m]\u001b[0m\u001b[1;33m,\u001b[0m \u001b[0mmethod\u001b[0m\u001b[1;33m=\u001b[0m\u001b[0mmethod\u001b[0m\u001b[1;33m,\u001b[0m \u001b[0mtolerance\u001b[0m\u001b[1;33m=\u001b[0m\u001b[0mtolerance\u001b[0m\u001b[1;33m)\u001b[0m\u001b[1;33m\u001b[0m\u001b[0m\n",
      "\u001b[1;32mpandas\\_libs\\index.pyx\u001b[0m in \u001b[0;36mpandas._libs.index.IndexEngine.get_loc\u001b[1;34m()\u001b[0m\n",
      "\u001b[1;32mpandas\\_libs\\index.pyx\u001b[0m in \u001b[0;36mpandas._libs.index.IndexEngine.get_loc\u001b[1;34m()\u001b[0m\n",
      "\u001b[1;32mpandas\\_libs\\hashtable_class_helper.pxi\u001b[0m in \u001b[0;36mpandas._libs.hashtable.PyObjectHashTable.get_item\u001b[1;34m()\u001b[0m\n",
      "\u001b[1;32mpandas\\_libs\\hashtable_class_helper.pxi\u001b[0m in \u001b[0;36mpandas._libs.hashtable.PyObjectHashTable.get_item\u001b[1;34m()\u001b[0m\n",
      "\u001b[1;31mKeyError\u001b[0m: ('s1', 's2')"
     ]
    },
    {
     "data": {
      "text/plain": [
       "<Figure size 432x288 with 0 Axes>"
      ]
     },
     "metadata": {},
     "output_type": "display_data"
    }
   ],
   "source": [
    "%matplotlib inline\n",
    "import matplotlib.pyplot as plt\n",
    "plt.figure(1)\n",
    "plt.plot(time,sensors['s1'],'-r')\n",
    "plt.plot(time,avg_rows,'^b')\n",
    "plt.legend(['sensors','average'])\n",
    "plt.xlabel(\"time(in secs)\")\n",
    "plt.ylabel(\"sensors\")\n",
    "plt.savefig('myPlot.png')"
   ]
  },
  {
   "cell_type": "code",
   "execution_count": null,
   "metadata": {},
   "outputs": [],
   "source": []
  }
 ],
 "metadata": {
  "kernelspec": {
   "display_name": "Python 3",
   "language": "python",
   "name": "python3"
  },
  "language_info": {
   "codemirror_mode": {
    "name": "ipython",
    "version": 3
   },
   "file_extension": ".py",
   "mimetype": "text/x-python",
   "name": "python",
   "nbconvert_exporter": "python",
   "pygments_lexer": "ipython3",
   "version": "3.6.5"
  }
 },
 "nbformat": 4,
 "nbformat_minor": 2
}
